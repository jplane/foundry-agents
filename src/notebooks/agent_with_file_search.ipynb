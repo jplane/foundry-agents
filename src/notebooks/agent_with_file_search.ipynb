{
 "cells": [
  {
   "cell_type": "code",
   "execution_count": null,
   "id": "f064ccd3",
   "metadata": {},
   "outputs": [],
   "source": [
    "import os\n",
    "import json\n",
    "from dotenv import dotenv_values\n",
    "from azure.ai.projects import AIProjectClient\n",
    "from azure.ai.projects.models import FileSearchTool, MessageAttachment, FilePurpose\n",
    "from azure.identity import DefaultAzureCredential"
   ]
  },
  {
   "cell_type": "code",
   "execution_count": null,
   "id": "308544d2",
   "metadata": {},
   "outputs": [],
   "source": [
    "env = dotenv_values(\".env\")"
   ]
  },
  {
   "cell_type": "code",
   "execution_count": null,
   "id": "8de28532",
   "metadata": {},
   "outputs": [],
   "source": [
    "project_client = AIProjectClient.from_connection_string(\n",
    "    credential=DefaultAzureCredential(), conn_str=env[\"FOUNDRY_CONN\"]\n",
    ")\n",
    "\n",
    "ny_file = project_client.agents.upload_file_and_poll(file_path='../../city_info/new_york.txt', purpose=FilePurpose.AGENTS)\n",
    "london_file = project_client.agents.upload_file_and_poll(file_path='../../city_info/london.txt', purpose=FilePurpose.AGENTS)\n",
    "tokyo_file = project_client.agents.upload_file_and_poll(file_path='../../city_info/tokyo.txt', purpose=FilePurpose.AGENTS)\n",
    "\n",
    "vector_store = project_client.agents.create_vector_store_and_poll(file_ids=[ny_file.id, london_file.id, tokyo_file.id], name=\"city_info_vector_store\")\n"
   ]
  },
  {
   "cell_type": "code",
   "execution_count": null,
   "id": "fc1b09dd",
   "metadata": {},
   "outputs": [],
   "source": [
    "file_search_tool = FileSearchTool(vector_store_ids=[vector_store.id])\n",
    "\n",
    "agent = project_client.agents.create_agent(\n",
    "    model=\"gpt-4o\",\n",
    "    name=\"tourist-agent\",\n",
    "    instructions=\"You are a tourist info bot. Use the provided tools and resources to answer questions.\",\n",
    "    tools=file_search_tool.definitions,\n",
    "    tool_resources=file_search_tool.resources,\n",
    ")"
   ]
  },
  {
   "cell_type": "code",
   "execution_count": null,
   "id": "2b872a50",
   "metadata": {},
   "outputs": [],
   "source": [
    "thread = project_client.agents.create_thread()\n",
    "\n",
    "message = project_client.agents.create_message(\n",
    "    thread_id=thread.id,\n",
    "    role=\"user\",\n",
    "    content=\"Suggest an interesting thing to do in London today.\",\n",
    ")\n"
   ]
  },
  {
   "cell_type": "code",
   "execution_count": null,
   "id": "ec712554",
   "metadata": {},
   "outputs": [],
   "source": [
    "run = project_client.agents.create_and_process_run(thread_id=thread.id, agent_id=agent.id)\n",
    "print(f\"Run finished with status: {run.status}\")\n",
    "\n",
    "if run.status == \"failed\":\n",
    "    print(f\"Run failed: {run.last_error}\")\n",
    "\n",
    "messages = project_client.agents.list_messages(thread_id=thread.id)\n",
    "print(f\"Messages: {messages}\")"
   ]
  }
 ],
 "metadata": {
  "kernelspec": {
   "display_name": "venv",
   "language": "python",
   "name": "python3"
  },
  "language_info": {
   "codemirror_mode": {
    "name": "ipython",
    "version": 3
   },
   "file_extension": ".py",
   "mimetype": "text/x-python",
   "name": "python",
   "nbconvert_exporter": "python",
   "pygments_lexer": "ipython3",
   "version": "3.12.3"
  }
 },
 "nbformat": 4,
 "nbformat_minor": 5
}
