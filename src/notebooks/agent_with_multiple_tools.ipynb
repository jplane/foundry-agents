{
 "cells": [
  {
   "cell_type": "code",
   "execution_count": null,
   "id": "f064ccd3",
   "metadata": {},
   "outputs": [],
   "source": [
    "import os\n",
    "import jsonref\n",
    "from dotenv import dotenv_values\n",
    "from azure.ai.projects import AIProjectClient\n",
    "from azure.ai.projects.models import OpenApiAnonymousAuthDetails, OpenApiTool, ToolSet, FileSearchTool, FilePurpose\n",
    "from azure.identity import DefaultAzureCredential"
   ]
  },
  {
   "cell_type": "code",
   "execution_count": null,
   "id": "308544d2",
   "metadata": {},
   "outputs": [],
   "source": [
    "env = dotenv_values(\".env\")"
   ]
  },
  {
   "cell_type": "code",
   "execution_count": null,
   "id": "23a10a3f",
   "metadata": {},
   "outputs": [],
   "source": [
    "project_client = AIProjectClient.from_connection_string(\n",
    "    credential=DefaultAzureCredential(), conn_str=env[\"FOUNDRY_CONN\"]\n",
    ")"
   ]
  },
  {
   "cell_type": "markdown",
   "id": "f24559a4",
   "metadata": {},
   "source": [
    "Note... before you run the cell below, be sure you've deployed the API code to a public endpoint, and update the `servers` section in [api.json](../api/api.json) with the endpoint URL. This is how the agent knows where to send requests."
   ]
  },
  {
   "cell_type": "code",
   "execution_count": null,
   "id": "dea41944",
   "metadata": {},
   "outputs": [],
   "source": [
    "with open('../api/api.json', 'r') as f:\n",
    "    openapi_spec = jsonref.loads(f.read())\n",
    "\n",
    "auth = OpenApiAnonymousAuthDetails()\n",
    "\n",
    "openapi = OpenApiTool(name=\"weather_tool\", spec=openapi_spec, description=\"Retrieve weather information for a location\", auth=auth)"
   ]
  },
  {
   "cell_type": "code",
   "execution_count": null,
   "id": "8de28532",
   "metadata": {},
   "outputs": [],
   "source": [
    "ny_file = project_client.agents.upload_file_and_poll(file_path='../../city_info/new_york.txt', purpose=FilePurpose.AGENTS)\n",
    "london_file = project_client.agents.upload_file_and_poll(file_path='../../city_info/london.txt', purpose=FilePurpose.AGENTS)\n",
    "tokyo_file = project_client.agents.upload_file_and_poll(file_path='../../city_info/tokyo.txt', purpose=FilePurpose.AGENTS)\n",
    "\n",
    "vector_store = project_client.agents.create_vector_store_and_poll(file_ids=[ny_file.id, london_file.id, tokyo_file.id], name=\"city_info_vector_store\")\n",
    "\n",
    "file_search_tool = FileSearchTool(vector_store_ids=[vector_store.id])"
   ]
  },
  {
   "cell_type": "code",
   "execution_count": null,
   "id": "fc1b09dd",
   "metadata": {},
   "outputs": [],
   "source": [
    "toolset = ToolSet()\n",
    "toolset.add(openapi)\n",
    "toolset.add(file_search_tool)\n",
    "\n",
    "agent = project_client.agents.create_agent(\n",
    "    model=\"gpt-4o\",\n",
    "    name=\"tourist-agent-2\",\n",
    "    instructions=\"You are a tourist info bot. Use only the provided tools and resources to answer user questions.\",\n",
    "    tools=toolset.definitions,\n",
    "    tool_resources=toolset.resources,\n",
    ")"
   ]
  },
  {
   "cell_type": "code",
   "execution_count": null,
   "id": "2b872a50",
   "metadata": {},
   "outputs": [],
   "source": [
    "thread = project_client.agents.create_thread()\n",
    "\n",
    "message = project_client.agents.create_message(\n",
    "    thread_id=thread.id,\n",
    "    role=\"user\",\n",
    "    content=\"Suggest a good tourist activity in London, and let me know if I'll need a jacket.\",\n",
    ")\n"
   ]
  },
  {
   "cell_type": "code",
   "execution_count": null,
   "id": "ec712554",
   "metadata": {},
   "outputs": [],
   "source": [
    "run = project_client.agents.create_and_process_run(thread_id=thread.id, agent_id=agent.id)\n",
    "print(f\"Run finished with status: {run.status}\")\n",
    "\n",
    "if run.status == \"failed\":\n",
    "    print(f\"Run failed: {run.last_error}\")\n",
    "\n",
    "messages = project_client.agents.list_messages(thread_id=thread.id)\n",
    "print(f\"Messages: {messages}\")"
   ]
  }
 ],
 "metadata": {
  "kernelspec": {
   "display_name": "venv",
   "language": "python",
   "name": "python3"
  },
  "language_info": {
   "codemirror_mode": {
    "name": "ipython",
    "version": 3
   },
   "file_extension": ".py",
   "mimetype": "text/x-python",
   "name": "python",
   "nbconvert_exporter": "python",
   "pygments_lexer": "ipython3",
   "version": "3.12.3"
  }
 },
 "nbformat": 4,
 "nbformat_minor": 5
}
