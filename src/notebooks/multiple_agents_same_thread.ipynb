{
 "cells": [
  {
   "cell_type": "markdown",
   "id": "3780ba24",
   "metadata": {},
   "source": [
    "## Fulfilling Natural Language Requests with Azure AI Agent Service\n",
    "\n",
    "This notebook walks through a simple example of answering natural language requests using multiple agents.\n",
    "\n",
    "Each agent is small, with one specific purpose. The agents cooperate to provide information in the form of contextual data added to a message thread; this data is used to answer the user query with a structured data (JSON) response.\n",
    "\n",
    "The four agents we'll create and use are:\n",
    "\n",
    "- **User Info Agent**: provides a lookup interface for user information (actual data is mocked)\n",
    "- **City Info Agent**: provides tourist information about cities, sourced from uploaded text files\n",
    "- **Weather Info Agent**: provides a lookup interface for weather information for a given city (actual data is mocked)\n",
    "- **Summary Agent**: combines the information from the other agents to provide a structured answer to the user query\n",
    "\n",
    "The steps in the flow below are:\n",
    "\n",
    "1. Register each agent with AI Agent Service\n",
    "1. Start a new agent thread\n",
    "1. Add the user query as the first message in the thread\n",
    "1. Ask the user info agent to lookup the user by name and add the user record to the message thread\n",
    "1. Ask the city info agent to add tourist information about the user's preferred city to the message thread\n",
    "1. Ask the weather info agent to lookup the weather for the user's preferred city and add that information to the message thread\n",
    "1. Ask the Summary Agent to summarize the thread and provide a structured answer\n",
    "\n",
    "_Note this agent flow is deterministic, in that we explicitly invite each agent to the thread, in order. More advanced scenarios can use an orchestrator agent to manage the flow of information and control the order in which agents are invoked; this advanced behavior is not needed for many scenarios, including this one._\n",
    "\n",
    "_Be conservative with choice of deterministic vs. non-deterministic orchestration._"
   ]
  },
  {
   "cell_type": "code",
   "execution_count": null,
   "id": "eb19cc92",
   "metadata": {},
   "outputs": [],
   "source": [
    "user_query = \"\"\"\n",
    "Suggest a good tourist activity for Sally, and let her know if she'll need a jacket.\n",
    "\"\"\""
   ]
  },
  {
   "cell_type": "code",
   "execution_count": null,
   "id": "f064ccd3",
   "metadata": {},
   "outputs": [],
   "source": [
    "# setup Python imports\n",
    "\n",
    "import json\n",
    "from dotenv import dotenv_values\n",
    "from azure.ai.projects import AIProjectClient\n",
    "from azure.ai.projects.models import FunctionTool, ToolSet, FileSearchTool, FilePurpose\n",
    "from azure.identity import DefaultAzureCredential"
   ]
  },
  {
   "cell_type": "code",
   "execution_count": null,
   "id": "308544d2",
   "metadata": {},
   "outputs": [],
   "source": [
    "# read environment variables... be sure to create .env from .env.example\n",
    "\n",
    "env = dotenv_values(\".env\")"
   ]
  },
  {
   "cell_type": "code",
   "execution_count": null,
   "id": "23a10a3f",
   "metadata": {},
   "outputs": [],
   "source": [
    "# initialize the AI Agent Service connection\n",
    "\n",
    "project_client = AIProjectClient.from_connection_string(\n",
    "    credential=DefaultAzureCredential(), conn_str=env[\"FOUNDRY_CONN\"]\n",
    ")"
   ]
  },
  {
   "cell_type": "code",
   "execution_count": null,
   "id": "60a88d90",
   "metadata": {},
   "outputs": [],
   "source": [
    "# create and register the city info agent with AI Agent Service\n",
    "\n",
    "ny_file = project_client.agents.upload_file_and_poll(file_path='../../city_info/new_york.txt', purpose=FilePurpose.AGENTS)\n",
    "london_file = project_client.agents.upload_file_and_poll(file_path='../../city_info/london.txt', purpose=FilePurpose.AGENTS)\n",
    "tokyo_file = project_client.agents.upload_file_and_poll(file_path='../../city_info/tokyo.txt', purpose=FilePurpose.AGENTS)\n",
    "\n",
    "vector_store = project_client.agents.create_vector_store_and_poll(file_ids=[ny_file.id, london_file.id, tokyo_file.id], name=\"city_info_vector_store\")\n",
    "\n",
    "city_info_tool = FileSearchTool(vector_store_ids=[vector_store.id])\n",
    "\n",
    "toolset = ToolSet()\n",
    "toolset.add(city_info_tool)\n",
    "\n",
    "instructions = \"\"\"\n",
    "You are a tourist info bot. Use the provided tools and resources to answer questions about cities and things to do.\n",
    "Do not answer any other questions.\n",
    "\"\"\"\n",
    "\n",
    "city_info_agent = project_client.agents.create_agent(\n",
    "    model=\"gpt-4o\",\n",
    "    name=\"city-info-agent\",\n",
    "    instructions=instructions,\n",
    "    toolset=toolset\n",
    ")"
   ]
  },
  {
   "cell_type": "code",
   "execution_count": null,
   "id": "b29a9043",
   "metadata": {},
   "outputs": [],
   "source": [
    "# create and register the user info agent with AI Agent Service\n",
    "\n",
    "def get_user_info_by_name(name) -> str:\n",
    "    return json.dumps({\n",
    "        'user_id': 17,\n",
    "        'name': name,\n",
    "        'preferred_city': 'Tokyo'\n",
    "    })\n",
    "\n",
    "functions = FunctionTool([get_user_info_by_name])\n",
    "toolset = ToolSet()\n",
    "toolset.add(functions)\n",
    "\n",
    "instructions = \"\"\"\n",
    "You are a user info bot.\n",
    "Use the provided tools to lookup info about users by name.\n",
    "Return only the JSON tool output.\n",
    "Do not answer any other questions.\n",
    "\"\"\"\n",
    "\n",
    "user_info_agent = project_client.agents.create_agent(\n",
    "    model=\"gpt-4o\",\n",
    "    name=\"user-info-agent\",\n",
    "    instructions=instructions,\n",
    "    toolset=toolset,\n",
    "    temperature=0.1,\n",
    "    top_p=0.1,\n",
    "    response_format={ \"type\": \"json_object\" }\n",
    ")"
   ]
  },
  {
   "cell_type": "code",
   "execution_count": null,
   "id": "751f7c8d",
   "metadata": {},
   "outputs": [],
   "source": [
    "# create and register the weather info agent with AI Agent Service\n",
    "\n",
    "def fetch_weather_for_city(city: str) -> str:\n",
    "    mock_weather_data = {\"New York\": \"Sunny, 25°C\", \"London\": \"Cloudy, 18°C\", \"Tokyo\": \"Rainy, 12°C\"}\n",
    "    weather = mock_weather_data.get(city, \"Weather data not available for this city.\")\n",
    "    return json.dumps({\n",
    "        \"city\": city,\n",
    "        \"weather\": weather\n",
    "    })\n",
    "\n",
    "functions = FunctionTool([fetch_weather_for_city])\n",
    "weather_toolset = ToolSet()\n",
    "weather_toolset.add(functions)\n",
    "\n",
    "instructions = \"\"\"\n",
    "You are a weather info bot.\n",
    "Use the provided tools to get weather for the city.\n",
    "Return only the JSON tool output.\n",
    "Do not answer any other questions.\n",
    "\"\"\"\n",
    "\n",
    "weather_info_agent = project_client.agents.create_agent(\n",
    "    model=\"gpt-4o\",\n",
    "    name=\"weather-info-agent\",\n",
    "    instructions=instructions,\n",
    "    toolset=weather_toolset,\n",
    "    temperature=0.1,\n",
    "    top_p=0.1,\n",
    "    response_format={ \"type\": \"json_object\" }\n",
    ")"
   ]
  },
  {
   "cell_type": "code",
   "execution_count": null,
   "id": "f1306344",
   "metadata": {},
   "outputs": [],
   "source": [
    "# create and register the summary agent with AI Agent Service\n",
    "\n",
    "instructions = \"\"\"\n",
    "You are a summary bot.\n",
    "Use information from the message thread to produce output in the following format.\n",
    "Do not do anything else.\n",
    "\n",
    "Expected JSON format:\n",
    "\n",
    "{\n",
    "  \"user_id\": <id>,\n",
    "  \"user_name\": <name>,\n",
    "  \"preferred_city\": <city>,\n",
    "  \"suggested_activity\": <activity>,\n",
    "  \"jacket_needed\": <boolean>\n",
    "}\n",
    "\"\"\"\n",
    "\n",
    "summary_agent = project_client.agents.create_agent(\n",
    "    model=\"gpt-4o\",\n",
    "    name=\"summary-agent\",\n",
    "    instructions=instructions,\n",
    "    temperature=0.1,\n",
    "    top_p=0.1\n",
    ")"
   ]
  },
  {
   "cell_type": "code",
   "execution_count": null,
   "id": "2b872a50",
   "metadata": {},
   "outputs": [],
   "source": [
    "# start a new agent thread, add the user query as the first message\n",
    "\n",
    "thread = project_client.agents.create_thread()\n",
    "\n",
    "message = project_client.agents.create_message(\n",
    "    thread_id=thread.id,\n",
    "    role=\"user\",\n",
    "    content=user_query\n",
    ")"
   ]
  },
  {
   "cell_type": "code",
   "execution_count": null,
   "id": "b283ef80",
   "metadata": {},
   "outputs": [],
   "source": [
    "# add the user info agent to the thread, it will provide context according to its instructions\n",
    "\n",
    "user_info_run = project_client.agents.create_and_process_run(thread_id=thread.id, agent_id=user_info_agent.id)\n",
    "\n",
    "if user_info_run.status == \"failed\":\n",
    "    print(f\"Run failed: {user_info_run.last_error}\")\n"
   ]
  },
  {
   "cell_type": "code",
   "execution_count": null,
   "id": "ec712554",
   "metadata": {},
   "outputs": [],
   "source": [
    "# add the city info agent to the thread, it will provide context according to its instructions\n",
    "#  note the city info added as context is based on the user's preferred city, as returned by the user info agent\n",
    "\n",
    "city_info_run = project_client.agents.create_and_process_run(thread_id=thread.id, agent_id=city_info_agent.id)\n",
    "\n",
    "if city_info_run.status == \"failed\":\n",
    "    print(f\"Run failed: {city_info_run.last_error}\")\n"
   ]
  },
  {
   "cell_type": "code",
   "execution_count": null,
   "id": "50b6e740",
   "metadata": {},
   "outputs": [],
   "source": [
    "# add the weather info agent to the thread, it will provide context according to its instructions\n",
    "#  note the city used is the one returned by the user info agent\n",
    "\n",
    "weather_run = project_client.agents.create_and_process_run(thread_id=thread.id, agent_id=weather_info_agent.id)\n",
    "\n",
    "if weather_run.status == \"failed\":\n",
    "    print(f\"Run failed: {weather_run.last_error}\")"
   ]
  },
  {
   "cell_type": "code",
   "execution_count": null,
   "id": "43d1d76d",
   "metadata": {},
   "outputs": [],
   "source": [
    "# add the summary agent to the thread, it will produce the final output according to its instructions\n",
    "#  note the summary agent will have access to all previous messages in the thread\n",
    "\n",
    "summary_run = project_client.agents.create_and_process_run(thread_id=thread.id, agent_id=summary_agent.id)\n",
    "\n",
    "if summary_run.status == \"failed\":\n",
    "    print(f\"Run failed: {summary_run.last_error}\")"
   ]
  },
  {
   "cell_type": "code",
   "execution_count": null,
   "id": "d1cc1095",
   "metadata": {},
   "outputs": [],
   "source": [
    "# retrieve the messages in the thread\n",
    "\n",
    "messages = project_client.agents.list_messages(thread_id=thread.id)"
   ]
  },
  {
   "cell_type": "code",
   "execution_count": null,
   "id": "38bd1cb0",
   "metadata": {},
   "outputs": [],
   "source": [
    "# view the full message thread\n",
    "\n",
    "print(json.dumps(messages.as_dict(), indent=2))"
   ]
  },
  {
   "cell_type": "code",
   "execution_count": null,
   "id": "523aa0bc",
   "metadata": {},
   "outputs": [],
   "source": [
    "# view the summary agent's output\n",
    "\n",
    "print(messages.as_dict()[\"data\"][0][\"content\"][0][\"text\"][\"value\"])"
   ]
  }
 ],
 "metadata": {
  "kernelspec": {
   "display_name": "Python 3",
   "language": "python",
   "name": "python3"
  },
  "language_info": {
   "codemirror_mode": {
    "name": "ipython",
    "version": 3
   },
   "file_extension": ".py",
   "mimetype": "text/x-python",
   "name": "python",
   "nbconvert_exporter": "python",
   "pygments_lexer": "ipython3",
   "version": "3.12.9"
  }
 },
 "nbformat": 4,
 "nbformat_minor": 5
}
