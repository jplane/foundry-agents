{
 "cells": [
  {
   "cell_type": "code",
   "execution_count": null,
   "id": "f064ccd3",
   "metadata": {},
   "outputs": [],
   "source": [
    "import os\n",
    "import jsonref\n",
    "from dotenv import dotenv_values\n",
    "from azure.ai.projects import AIProjectClient\n",
    "from azure.ai.projects.models import OpenApiTool, OpenApiAnonymousAuthDetails\n",
    "from azure.identity import DefaultAzureCredential"
   ]
  },
  {
   "cell_type": "code",
   "execution_count": null,
   "id": "308544d2",
   "metadata": {},
   "outputs": [],
   "source": [
    "env = dotenv_values(\".env\")"
   ]
  },
  {
   "cell_type": "markdown",
   "id": "fab48fcd",
   "metadata": {},
   "source": [
    "Note... before you run the cell below, be sure you've deployed the API code to a public endpoint, and update the `servers` section in [api.json](../api/api.json) with the endpoint URL. This is how the agent knows where to send requests."
   ]
  },
  {
   "cell_type": "code",
   "execution_count": null,
   "id": "4873b910",
   "metadata": {},
   "outputs": [],
   "source": [
    "with open('../api/api.json', 'r') as f:\n",
    "    openapi_spec = jsonref.loads(f.read())\n",
    "\n",
    "auth = OpenApiAnonymousAuthDetails()\n",
    "\n",
    "openapi = OpenApiTool(name=\"weather_tool\", spec=openapi_spec, description=\"Retrieve weather information for a location\", auth=auth)"
   ]
  },
  {
   "cell_type": "code",
   "execution_count": null,
   "id": "8de28532",
   "metadata": {},
   "outputs": [],
   "source": [
    "project_client = AIProjectClient.from_connection_string(\n",
    "    credential=DefaultAzureCredential(), conn_str=env[\"FOUNDRY_CONN\"]\n",
    ")\n",
    "\n",
    "agent = project_client.agents.create_agent(\n",
    "    model=\"gpt-4o\",\n",
    "    name=\"weather-agent\",\n",
    "    instructions=\"You are a weather bot. Use the provided functions to help answer questions.\",\n",
    "    tools=openapi.definitions\n",
    ")"
   ]
  },
  {
   "cell_type": "code",
   "execution_count": null,
   "id": "2b872a50",
   "metadata": {},
   "outputs": [],
   "source": [
    "thread = project_client.agents.create_thread()\n",
    "\n",
    "message = project_client.agents.create_message(\n",
    "    thread_id=thread.id,\n",
    "    role=\"user\",\n",
    "    content=\"Do I need an umbrella in New York today?\",\n",
    ")\n"
   ]
  },
  {
   "cell_type": "code",
   "execution_count": null,
   "id": "ec712554",
   "metadata": {},
   "outputs": [],
   "source": [
    "run = project_client.agents.create_and_process_run(thread_id=thread.id, agent_id=agent.id)\n",
    "print(f\"Run finished with status: {run.status}\")\n",
    "\n",
    "if run.status == \"failed\":\n",
    "    print(f\"Run failed: {run.last_error}\")\n",
    "\n",
    "messages = project_client.agents.list_messages(thread_id=thread.id)\n",
    "print(f\"Messages: {messages}\")"
   ]
  }
 ],
 "metadata": {
  "kernelspec": {
   "display_name": "venv",
   "language": "python",
   "name": "python3"
  },
  "language_info": {
   "codemirror_mode": {
    "name": "ipython",
    "version": 3
   },
   "file_extension": ".py",
   "mimetype": "text/x-python",
   "name": "python",
   "nbconvert_exporter": "python",
   "pygments_lexer": "ipython3",
   "version": "3.12.3"
  }
 },
 "nbformat": 4,
 "nbformat_minor": 5
}
